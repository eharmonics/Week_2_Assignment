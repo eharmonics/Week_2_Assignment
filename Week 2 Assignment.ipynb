{
 "cells": [
  {
   "cell_type": "markdown",
   "id": "1494bb6b",
   "metadata": {},
   "source": [
    "# Set Comprehension"
   ]
  },
  {
   "cell_type": "markdown",
   "id": "580583e6",
   "metadata": {},
   "source": [
    "Set comprehension is a method for creating sets in python using the elements from other iterables like lists, sets, or tuples. Just like we use list comprehension to create lists, we can use set comprehension instead of for loop to create a new set and add elements to it."
   ]
  },
  {
   "cell_type": "markdown",
   "id": "93409aff",
   "metadata": {},
   "source": [
    "In the following example, we are given a list of 10 integers. We have to create a set of triples of even integers. This can be done using set comprehension as follows."
   ]
  },
  {
   "cell_type": "code",
   "execution_count": 1,
   "id": "153ac873",
   "metadata": {},
   "outputs": [
    {
     "name": "stdout",
     "output_type": "stream",
     "text": [
      "The existing list is:\n",
      "[1, 2, 3, 4, 5, 6, 7, 8, 9, 10]\n",
      "The Newly Created set is:\n",
      "{6, 12, 18, 24, 30}\n"
     ]
    }
   ],
   "source": [
    "myList = [1, 2, 3, 4, 5, 6, 7, 8, 9, 10]\n",
    "newSet = {element*3 for element in myList if element % 2 ==0}\n",
    "print(\"The existing list is:\")\n",
    "print(myList)\n",
    "print(\"The Newly Created set is:\")\n",
    "print(newSet)"
   ]
  },
  {
   "cell_type": "markdown",
   "id": "c8b86575",
   "metadata": {},
   "source": [
    "# zip() Function"
   ]
  },
  {
   "cell_type": "markdown",
   "id": "fd36e77d",
   "metadata": {},
   "source": [
    "The zip() function returns a zip object, which is an iterator of tuples where the first item in each passed iterator is paired together, and then the second item in each passed iterator are paired together etc."
   ]
  },
  {
   "cell_type": "code",
   "execution_count": 2,
   "id": "13e86d10",
   "metadata": {},
   "outputs": [],
   "source": [
    "a = (\"John\", \"Charles\", \"Mike\")\n",
    "b = (\"Jenny\", \"Christy\", \"Monica\")\n",
    "\n",
    "x = zip(a, b)"
   ]
  },
  {
   "cell_type": "code",
   "execution_count": 5,
   "id": "b2fe5fff",
   "metadata": {},
   "outputs": [
    {
     "name": "stdout",
     "output_type": "stream",
     "text": [
      "(('John', 'Jenny'), ('Charles', 'Christy'), ('Mike', 'Monica'))\n"
     ]
    }
   ],
   "source": [
    "print(tuple(x))"
   ]
  },
  {
   "cell_type": "markdown",
   "id": "cf7089bd",
   "metadata": {},
   "source": [
    "In the above code the zip function is used to combine two tuples and the output of the code is tuple which contains multiple tuples package together"
   ]
  },
  {
   "cell_type": "markdown",
   "id": "e841071e",
   "metadata": {},
   "source": [
    "# Lambda Function"
   ]
  },
  {
   "cell_type": "markdown",
   "id": "454241ba",
   "metadata": {},
   "source": [
    "A lambda function is a small anonymous function. A lambda function can take any number of arguments, but can only have one expression."
   ]
  },
  {
   "cell_type": "code",
   "execution_count": 6,
   "id": "4d6a00f3",
   "metadata": {},
   "outputs": [
    {
     "name": "stdout",
     "output_type": "stream",
     "text": [
      "30\n"
     ]
    }
   ],
   "source": [
    "x = lambda a, b : a * b\n",
    "print(x(5, 6))"
   ]
  },
  {
   "cell_type": "code",
   "execution_count": 7,
   "id": "a93d4375",
   "metadata": {},
   "outputs": [
    {
     "name": "stdout",
     "output_type": "stream",
     "text": [
      "13\n"
     ]
    }
   ],
   "source": [
    "x = lambda a, b, c : a + b + c\n",
    "print(x(5, 6, 2))"
   ]
  },
  {
   "cell_type": "markdown",
   "id": "36716334",
   "metadata": {},
   "source": [
    "In the above code the lambda function is used to multiple two numbers and add three numbers"
   ]
  },
  {
   "cell_type": "code",
   "execution_count": null,
   "id": "c4b1b751",
   "metadata": {},
   "outputs": [],
   "source": []
  }
 ],
 "metadata": {
  "kernelspec": {
   "display_name": "Python 3 (ipykernel)",
   "language": "python",
   "name": "python3"
  },
  "language_info": {
   "codemirror_mode": {
    "name": "ipython",
    "version": 3
   },
   "file_extension": ".py",
   "mimetype": "text/x-python",
   "name": "python",
   "nbconvert_exporter": "python",
   "pygments_lexer": "ipython3",
   "version": "3.9.7"
  }
 },
 "nbformat": 4,
 "nbformat_minor": 5
}
